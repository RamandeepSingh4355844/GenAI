{
  "nbformat": 4,
  "nbformat_minor": 0,
  "metadata": {
    "colab": {
      "provenance": [],
      "include_colab_link": true
    },
    "kernelspec": {
      "name": "python3",
      "display_name": "Python 3"
    },
    "language_info": {
      "name": "python"
    }
  },
  "cells": [
    {
      "cell_type": "markdown",
      "metadata": {
        "id": "view-in-github",
        "colab_type": "text"
      },
      "source": [
        "<a href=\"https://colab.research.google.com/github/RamandeepSingh4355844/GenAI/blob/main/GenAI_for_image_GIF.ipynb\" target=\"_parent\"><img src=\"https://colab.research.google.com/assets/colab-badge.svg\" alt=\"Open In Colab\"/></a>"
      ]
    },
    {
      "cell_type": "markdown",
      "source": [
        "##Project Name:\n",
        "#**Generative AI to create images and motion Videos**\n",
        "##Project Scope\n",
        "The goal of GenAI's REPLICATE project is to provide an approachable platform for producing excellent images and GIFs. It will include real-time content preview and editing capabilities, an easy-to-use UI, and sophisticated AI algorithms. Scalability, effectiveness, and user pleasure are prioritized to guarantee the smooth production of aesthetically attractive material according to each user's preferences."
      ],
      "metadata": {
        "id": "OmjBzaesKMxz"
      }
    },
    {
      "cell_type": "markdown",
      "source": [
        "#GROUP MEMBERS\n",
        "* Harmanpreet Singh(4355959)\n",
        "* Ramandeep Singh(4355844)"
      ],
      "metadata": {
        "id": "zxxpag4GK7-e"
      }
    },
    {
      "cell_type": "markdown",
      "source": [
        "#PROJECT DESCRIPTION\n",
        "\n",
        "GenAI produces high-quality visual content by giving priority to efficiency and scalability. Using REPLICATE technology, it offers a user-friendly platform with advanced customization options and basic editing capabilities for producing personalized pictures and GIFs.\n",
        "\n",
        "\n",
        "# OBJECTIVES of the Project\n",
        "1. Provide a user-friendly platform that enables users to generate personalized GIFs and images using REPLICATE technology.\n",
        "2. Make extensive customization possible and editing tools easy to use by using state-of-the-art AI techniques.\n",
        "3. Ensure scalability and efficiency to handle growing user demand and maintain top performance.\n",
        "4. Offer top-notch, customized visual content that meets the requirements and preferences of every individual user.\n",
        "5. Encourage user satisfaction by gradually improving the platform's usability and utility in response to feedback from users and use data.\n",
        "\n",
        "# EXPECTED OUTCOMES of the Project\n",
        "\n",
        "1. An increase in user satisfaction and involvement due to obtaining high-quality, personalized visual content.\n",
        "2. Enhanced efficiency in content creation processes via the use of automation and AI-powered algorithms.\n",
        "3. An increase in the platform's user base and use due to its adaptable capabilities and user-friendly layout.\n",
        "4. A greater feeling of brand recognition and standing as a leading provider of innovative visual content creation services.\n",
        "5. Partnerships or premium features may provide revenue-generating potential, depending on the platform's popularity and profitability."
      ],
      "metadata": {
        "id": "rEiwF1z3Lqo9"
      }
    },
    {
      "cell_type": "markdown",
      "source": [
        "# **MODIFICATIONS/CONTRIBUTIONS**\n",
        "The features of Cell Update include a secure user authentication system via an API token system, REPLICATE AI for creating images and GIFs, improved content creation prompts, additional customization options, the ability for the community to collaborate on prompts, comprehensive API documentation for third-party integration, and feedback mechanisms to continuously improve the platform.\n",
        "\n",
        "\n",
        "\n",
        "## **JUSTIFICATION:**\n",
        "1. **Better security**: Using API tokens ensures secure access while safeguarding user information and privacy.\n",
        "   \n",
        "2. **Better Quality Content**: The diversity and quality of the images and GIFs produced are enhanced with the addition of REPLICATE AI.\n",
        "   \n",
        "3. **Better User Experience**: By facilitating the creation of material, **Prompts for Improvement and Explanation** reduce user friction.\n",
        "   \n",
        "4. **More Customization**: People are happy when they have more options to modify since it offers them more influence over the final product.\n",
        "\n",
        "5. **Developer Enablement**: Full API advice facilitates developers' merging efforts, resulting in more utilization and innovative ideas.\n"
      ],
      "metadata": {
        "id": "qWk0OSyaMdnQ"
      }
    },
    {
      "cell_type": "markdown",
      "source": [
        "# Criteria Specifics\n",
        "## Relevance\n",
        "1. GenAI's AI-driven visual content creation tools address the growing need for visual material that can be easily modified.\n",
        "   \n",
        "2. These tools enable users to make complex alterations to images and GIFs using AI algorithms, enhancing creative flexibility.\n",
        "   \n",
        "3. The platform prioritizes user satisfaction, efficiency, and scalability, ensuring a positive experience for content creators.\n",
        "   \n",
        "4. GenAI's technology adapts to evolving audience preferences and the dynamic requirements of content creators, fostering continuous improvement and innovation.\n",
        "\n",
        "## Applications\n",
        "1. Social media marketing: lets you make unique visual material for projects that get people interested.\n",
        "2. Digital advertising gives you tools to make ads that are more relevant to you.\n",
        "3. E-commerce: adds high-quality pictures and GIFs to product descriptions to make them look better.\n",
        "4. Content Creation Platforms: GenAI's technology is built in to allow for more advanced customization.\n",
        "5. Personal Use: Share pictures and GIFs that are unique to you.\n",
        "6. Education: It helps teachers make learning tools that look good.\n",
        "7. Entertainment: Gives entertainment businesses tools they can use.\n",
        "\n",
        "## Innovation and Technical Proficiency\n",
        "\n",
        "1. Incorporates cutting-edge artificial intelligence technologies with a user-friendly UI design.\n",
        "\n",
        "2. Image manipulation, style transfer, and content development are some of the extensive customization options that are offered by this product.\n",
        "\n",
        "3. Maintains a high level of technical expertise in the processing of enormous amounts of data and in the previewing of information in real time.\n",
        "\n",
        "4. The distribution of personalized photographs and GIFs is certain to be speedy and efficient.\n"
      ],
      "metadata": {
        "id": "ipVKYDKjNF80"
      }
    },
    {
      "cell_type": "markdown",
      "source": [
        "# 1. **Install Replicate**:\n",
        "Enables installation of the Replicate library, a crucial step for accessing its functionalities within the GenAI project environment."
      ],
      "metadata": {
        "id": "TnfLbVpaPI3K"
      }
    },
    {
      "cell_type": "code",
      "source": [
        "# @title Install Replicate\n",
        "!pip install replicate"
      ],
      "metadata": {
        "colab": {
          "base_uri": "https://localhost:8080/"
        },
        "id": "t3idtRk_OhkZ",
        "outputId": "54d204ac-5825-49a7-b6a7-2dabdc9cc7e2"
      },
      "execution_count": null,
      "outputs": [
        {
          "output_type": "stream",
          "name": "stdout",
          "text": [
            "Collecting replicate\n",
            "  Downloading replicate-0.25.1-py3-none-any.whl (39 kB)\n",
            "Collecting httpx<1,>=0.21.0 (from replicate)\n",
            "  Downloading httpx-0.27.0-py3-none-any.whl (75 kB)\n",
            "\u001b[2K     \u001b[90m━━━━━━━━━━━━━━━━━━━━━━━━━━━━━━━━━━━━━━━━\u001b[0m \u001b[32m75.6/75.6 kB\u001b[0m \u001b[31m4.3 MB/s\u001b[0m eta \u001b[36m0:00:00\u001b[0m\n",
            "\u001b[?25hRequirement already satisfied: packaging in /usr/local/lib/python3.10/dist-packages (from replicate) (24.0)\n",
            "Requirement already satisfied: pydantic>1.10.7 in /usr/local/lib/python3.10/dist-packages (from replicate) (2.6.4)\n",
            "Requirement already satisfied: typing-extensions>=4.5.0 in /usr/local/lib/python3.10/dist-packages (from replicate) (4.10.0)\n",
            "Requirement already satisfied: anyio in /usr/local/lib/python3.10/dist-packages (from httpx<1,>=0.21.0->replicate) (3.7.1)\n",
            "Requirement already satisfied: certifi in /usr/local/lib/python3.10/dist-packages (from httpx<1,>=0.21.0->replicate) (2024.2.2)\n",
            "Collecting httpcore==1.* (from httpx<1,>=0.21.0->replicate)\n",
            "  Downloading httpcore-1.0.5-py3-none-any.whl (77 kB)\n",
            "\u001b[2K     \u001b[90m━━━━━━━━━━━━━━━━━━━━━━━━━━━━━━━━━━━━━━━━\u001b[0m \u001b[32m77.9/77.9 kB\u001b[0m \u001b[31m7.9 MB/s\u001b[0m eta \u001b[36m0:00:00\u001b[0m\n",
            "\u001b[?25hRequirement already satisfied: idna in /usr/local/lib/python3.10/dist-packages (from httpx<1,>=0.21.0->replicate) (3.6)\n",
            "Requirement already satisfied: sniffio in /usr/local/lib/python3.10/dist-packages (from httpx<1,>=0.21.0->replicate) (1.3.1)\n",
            "Collecting h11<0.15,>=0.13 (from httpcore==1.*->httpx<1,>=0.21.0->replicate)\n",
            "  Downloading h11-0.14.0-py3-none-any.whl (58 kB)\n",
            "\u001b[2K     \u001b[90m━━━━━━━━━━━━━━━━━━━━━━━━━━━━━━━━━━━━━━━━\u001b[0m \u001b[32m58.3/58.3 kB\u001b[0m \u001b[31m5.9 MB/s\u001b[0m eta \u001b[36m0:00:00\u001b[0m\n",
            "\u001b[?25hRequirement already satisfied: annotated-types>=0.4.0 in /usr/local/lib/python3.10/dist-packages (from pydantic>1.10.7->replicate) (0.6.0)\n",
            "Requirement already satisfied: pydantic-core==2.16.3 in /usr/local/lib/python3.10/dist-packages (from pydantic>1.10.7->replicate) (2.16.3)\n",
            "Requirement already satisfied: exceptiongroup in /usr/local/lib/python3.10/dist-packages (from anyio->httpx<1,>=0.21.0->replicate) (1.2.0)\n",
            "Installing collected packages: h11, httpcore, httpx, replicate\n",
            "Successfully installed h11-0.14.0 httpcore-1.0.5 httpx-0.27.0 replicate-0.25.1\n"
          ]
        }
      ]
    },
    {
      "cell_type": "markdown",
      "source": [
        "#2. **Set Replicate API Token**:\n",
        " Assigns the Replicate API token to the environment variable, facilitating secure access to Replicate services within the GenAI project environment."
      ],
      "metadata": {
        "id": "keD-QxStPO0o"
      }
    },
    {
      "cell_type": "code",
      "source": [
        "API = \"r8_CSZoC6JqBc7e2e3tH8j4LNzBND74yY93eDm1d\"\n",
        "import os\n",
        "\n",
        "os.environ[\"REPLICATE_API_TOKEN\"] = API #find it here: https://replicate.com/signin?next=/account/api-tokens"
      ],
      "metadata": {
        "id": "tweh7I39OkYE"
      },
      "execution_count": null,
      "outputs": []
    },
    {
      "cell_type": "markdown",
      "source": [
        "#3. **Generate Image**:\n",
        "Utilizes the Replicate library to generate an image based on the provided prompt, leveraging the stability-ai/stable-diffusion model for image creation."
      ],
      "metadata": {
        "id": "ejoXBaGKPbQs"
      }
    },
    {
      "cell_type": "code",
      "source": [
        "# @title Generate Image\n",
        "prompt = \"kid is holding a laptop\"\n",
        "import replicate\n",
        "\n",
        "output = replicate.run(\n",
        "  \"stability-ai/stable-diffusion:27b93a2413e7f36cd83da926f3656280b2931564ff050bf9575f1fdf9bcd7478\",\n",
        "  input={\"prompt\":prompt}\n",
        ")\n",
        "\n",
        "output"
      ],
      "metadata": {
        "colab": {
          "base_uri": "https://localhost:8080/"
        },
        "id": "_7ZNXNlzOl7p",
        "outputId": "20f82477-742b-41e6-d69e-b680a901a9a8"
      },
      "execution_count": null,
      "outputs": [
        {
          "output_type": "execute_result",
          "data": {
            "text/plain": [
              "['https://replicate.delivery/pbxt/iTk3yI6ZSuLKLhUa1ZtnqJIBzgKt2A5JFYFWhBlzF695GjpE/out-0.png']"
            ]
          },
          "metadata": {},
          "execution_count": 3
        }
      ]
    },
    {
      "cell_type": "markdown",
      "source": [
        "# 4. **Display Generated Image**:\n",
        " Utilizes IPython's display module to showcase the image generated by the Replicate model, providing visual feedback to the user within the GenAI project environment."
      ],
      "metadata": {
        "id": "V9bWumWYPgSp"
      }
    },
    {
      "cell_type": "code",
      "source": [
        "from IPython.display import Image\n",
        "output_image = output\n",
        "Image(url=output_image[0])"
      ],
      "metadata": {
        "colab": {
          "base_uri": "https://localhost:8080/",
          "height": 534
        },
        "id": "FjcVoU_HOnou",
        "outputId": "f4a8236b-8a8e-421c-fc2e-90aa54d6d597"
      },
      "execution_count": null,
      "outputs": [
        {
          "output_type": "execute_result",
          "data": {
            "text/html": [
              "<img src=\"https://replicate.delivery/pbxt/iTk3yI6ZSuLKLhUa1ZtnqJIBzgKt2A5JFYFWhBlzF695GjpE/out-0.png\"/>"
            ],
            "text/plain": [
              "<IPython.core.display.Image object>"
            ]
          },
          "metadata": {},
          "execution_count": 4
        }
      ]
    },
    {
      "cell_type": "markdown",
      "source": [
        "# 5. **Generate Video/GIF/Animation**:\n",
        "Initiates the Replicate library to produce a video, GIF, or animation sequence based on provided prompts, utilizing the andreasjansson/stable-diffusion-animation model with specified parameters for format and animation style."
      ],
      "metadata": {
        "id": "lBUtRjGkPmM3"
      }
    },
    {
      "cell_type": "code",
      "source": [
        "# @title Video/gif/animation/Generation\n",
        "import replicate\n",
        "\n",
        "output = replicate.run(\n",
        "    \"andreasjansson/stable-diffusion-animation:ca1f5e306e5721e19c473e0d094e6603f0456fe759c10715fcd6c1b79242d4a5\",\n",
        "    input={\n",
        "        \"prompt_start\": \"dog is standing in a street\",\n",
        "        \"prompt_end\": \"the dog starts walking\",\n",
        "        \"output_format\": \"gif\",\n",
        "        \"gif_ping_pong\": True\n",
        "    }\n",
        ")\n",
        "\n",
        "output"
      ],
      "metadata": {
        "colab": {
          "base_uri": "https://localhost:8080/"
        },
        "id": "hHJGIM0fOpgG",
        "outputId": "7c60be98-26ec-460e-e329-a4a935ba2cec"
      },
      "execution_count": null,
      "outputs": [
        {
          "output_type": "execute_result",
          "data": {
            "text/plain": [
              "<generator object Prediction.output_iterator at 0x783ca407ee30>"
            ]
          },
          "metadata": {},
          "execution_count": 5
        }
      ]
    },
    {
      "cell_type": "markdown",
      "source": [
        "#6. **Process Generated Video Output**:\n",
        " Iterates through the output data to access and process the generated video files, allowing for further manipulation or display within the GenAI project environment."
      ],
      "metadata": {
        "id": "Np9lC83nPr3l"
      }
    },
    {
      "cell_type": "code",
      "source": [
        "# @title generate video\n",
        "for item in output:\n",
        "     #https://replicate.com/andreasjansson/stable-diffusion-animation/versions/ca1f5e306e5721e19c473e0d094e6603f0456fe759c10715fcd6c1b79242d4a5/api#output-schema\n",
        "    print(item)"
      ],
      "metadata": {
        "colab": {
          "base_uri": "https://localhost:8080/"
        },
        "id": "tT1etsVoOrbK",
        "outputId": "0f0d734e-8e95-4adb-dd60-07d4db853477"
      },
      "execution_count": null,
      "outputs": [
        {
          "output_type": "stream",
          "name": "stdout",
          "text": [
            "https://replicate.delivery/pbxt/HSRcl9J6ztpzMJz3wDUHCQnzUvFAdJ2sWjViYeNyzhIqPGTJA/video.gif\n"
          ]
        }
      ]
    },
    {
      "cell_type": "markdown",
      "source": [
        "#7. **Retrieve Video for Colab Display**:\n",
        "Retrieves the URL of the generated video file, enabling seamless display within the Colab environment for user interaction and review within the GenAI project interface."
      ],
      "metadata": {
        "id": "2APAPsvGPxFc"
      }
    },
    {
      "cell_type": "code",
      "source": [
        "# @title get the video on colab\n",
        "gif_url= item[0:len(item)]"
      ],
      "metadata": {
        "id": "nuFBYz0uOt92"
      },
      "execution_count": null,
      "outputs": []
    },
    {
      "cell_type": "markdown",
      "source": [
        "# 8. **Display Video in Colab**:\n",
        " Utilizes the requests module to fetch the generated video file from its URL and displays it within the Colab notebook for user interaction and evaluation within the GenAI project environment."
      ],
      "metadata": {
        "id": "ah3qAq1gP1o1"
      }
    },
    {
      "cell_type": "code",
      "source": [
        "# @title Show the video\n",
        "import requests\n",
        "from IPython.display import display, Image\n",
        "from PIL import Image as PILImage\n",
        "from io import BytesIO\n",
        "response = requests.get(gif_url)\n",
        "if response.status_code == 200:\n",
        "    # Display the GIF in the notebook\n",
        "    display(Image(url=gif_url))\n",
        "\n",
        "    # Save the GIF in the Colab environment\n",
        "    with open(\"gif_output.gif\", \"wb\") as f:\n",
        "        f.write(response.content)\n",
        "\n",
        "    # Show a saved GIF using PIL\n",
        "    saved_gif = PILImage.open(\"gif_output.gif\")\n",
        "    saved_gif.show()\n",
        "else:\n",
        "    print(\"Failed to fetch GIF\")"
      ],
      "metadata": {
        "colab": {
          "base_uri": "https://localhost:8080/",
          "height": 534
        },
        "id": "OI9Wh9vSOvjc",
        "outputId": "69e9f528-fd5a-4d01-aab5-5b3af7cd700a"
      },
      "execution_count": null,
      "outputs": [
        {
          "output_type": "display_data",
          "data": {
            "text/html": [
              "<img src=\"https://replicate.delivery/pbxt/HSRcl9J6ztpzMJz3wDUHCQnzUvFAdJ2sWjViYeNyzhIqPGTJA/video.gif\"/>"
            ],
            "text/plain": [
              "<IPython.core.display.Image object>"
            ]
          },
          "metadata": {}
        }
      ]
    },
    {
      "cell_type": "markdown",
      "source": [
        "#**REFERENCES**\n",
        "* Replicate.https://replicate.com/\n",
        "* Arham, M. (n.d.-d). Text-2-Video Generation: Step-by-Step Guide - KDNuggets. KDnuggets. https://www.kdnuggets.com/2023/08/text2video-generation-stepbystep-guide.html\n",
        "\n",
        "* turna1/GenAI: GitHub. https://github.com/turna1/GenAI\n"
      ],
      "metadata": {
        "id": "ca13Hg_cR7Px"
      }
    },
    {
      "cell_type": "markdown",
      "source": [
        "# **THANK YOU**"
      ],
      "metadata": {
        "id": "1xJFKssPS8uj"
      }
    }
  ]
}